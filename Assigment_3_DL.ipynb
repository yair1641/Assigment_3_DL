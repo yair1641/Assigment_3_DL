{
 "cells": [
  {
   "cell_type": "markdown",
   "metadata": {},
   "source": [
    "Write by:\n",
    "Yitzhak Grinvald, I.D. 204551808\n",
    "Yair Langerman, I.d. 204156434"
   ]
  },
  {
   "cell_type": "code",
   "execution_count": 15,
   "metadata": {},
   "outputs": [],
   "source": [
    "import numpy as np\n",
    "import pandas as pd\n",
    "import keras\n",
    "from tensorflow import keras\n",
    "from tensorflow.keras import layers\n",
    "import matplotlib.pyplot as plt"
   ]
  },
  {
   "cell_type": "code",
   "execution_count": 16,
   "metadata": {},
   "outputs": [
    {
     "name": "stdout",
     "output_type": "stream",
     "text": [
      "Requirement already satisfied: matplotlib in c:\\programdata\\anaconda3\\lib\\site-packages (3.4.3)\n",
      "Requirement already satisfied: pyparsing>=2.2.1 in c:\\programdata\\anaconda3\\lib\\site-packages (from matplotlib) (3.0.4)\n",
      "Requirement already satisfied: pillow>=6.2.0 in c:\\programdata\\anaconda3\\lib\\site-packages (from matplotlib) (8.4.0)\n",
      "Requirement already satisfied: numpy>=1.16 in c:\\programdata\\anaconda3\\lib\\site-packages (from matplotlib) (1.20.3)Note: you may need to restart the kernel to use updated packages.\n"
     ]
    },
    {
     "name": "stderr",
     "output_type": "stream",
     "text": [
      "WARNING: Ignoring invalid distribution -ml5lib (c:\\programdata\\anaconda3\\lib\\site-packages)\n",
      "WARNING: Ignoring invalid distribution -tml5lib (c:\\programdata\\anaconda3\\lib\\site-packages)\n",
      "WARNING: Ignoring invalid distribution -rotobuf (c:\\programdata\\anaconda3\\lib\\site-packages)\n",
      "WARNING: Ignoring invalid distribution -ml5lib (c:\\programdata\\anaconda3\\lib\\site-packages)\n",
      "WARNING: Ignoring invalid distribution - (c:\\programdata\\anaconda3\\lib\\site-packages)\n",
      "WARNING: Ignoring invalid distribution -ml5lib (c:\\programdata\\anaconda3\\lib\\site-packages)\n",
      "WARNING: Ignoring invalid distribution -tml5lib (c:\\programdata\\anaconda3\\lib\\site-packages)\n",
      "WARNING: Ignoring invalid distribution -rotobuf (c:\\programdata\\anaconda3\\lib\\site-packages)\n",
      "WARNING: Ignoring invalid distribution -ml5lib (c:\\programdata\\anaconda3\\lib\\site-packages)\n",
      "WARNING: Ignoring invalid distribution - (c:\\programdata\\anaconda3\\lib\\site-packages)\n",
      "WARNING: Ignoring invalid distribution -ml5lib (c:\\programdata\\anaconda3\\lib\\site-packages)\n",
      "WARNING: Ignoring invalid distribution -tml5lib (c:\\programdata\\anaconda3\\lib\\site-packages)\n",
      "WARNING: Ignoring invalid distribution -rotobuf (c:\\programdata\\anaconda3\\lib\\site-packages)\n",
      "WARNING: Ignoring invalid distribution -ml5lib (c:\\programdata\\anaconda3\\lib\\site-packages)\n",
      "WARNING: Ignoring invalid distribution - (c:\\programdata\\anaconda3\\lib\\site-packages)\n",
      "WARNING: Ignoring invalid distribution -ml5lib (c:\\programdata\\anaconda3\\lib\\site-packages)\n",
      "WARNING: Ignoring invalid distribution -tml5lib (c:\\programdata\\anaconda3\\lib\\site-packages)\n",
      "WARNING: Ignoring invalid distribution -rotobuf (c:\\programdata\\anaconda3\\lib\\site-packages)\n",
      "WARNING: Ignoring invalid distribution -ml5lib (c:\\programdata\\anaconda3\\lib\\site-packages)\n",
      "WARNING: Ignoring invalid distribution - (c:\\programdata\\anaconda3\\lib\\site-packages)\n",
      "WARNING: Ignoring invalid distribution -ml5lib (c:\\programdata\\anaconda3\\lib\\site-packages)\n",
      "WARNING: Ignoring invalid distribution -tml5lib (c:\\programdata\\anaconda3\\lib\\site-packages)\n",
      "WARNING: Ignoring invalid distribution -rotobuf (c:\\programdata\\anaconda3\\lib\\site-packages)\n",
      "WARNING: Ignoring invalid distribution -ml5lib (c:\\programdata\\anaconda3\\lib\\site-packages)\n",
      "WARNING: Ignoring invalid distribution - (c:\\programdata\\anaconda3\\lib\\site-packages)\n",
      "WARNING: Ignoring invalid distribution -ml5lib (c:\\programdata\\anaconda3\\lib\\site-packages)\n",
      "WARNING: Ignoring invalid distribution -tml5lib (c:\\programdata\\anaconda3\\lib\\site-packages)\n",
      "WARNING: Ignoring invalid distribution -rotobuf (c:\\programdata\\anaconda3\\lib\\site-packages)\n",
      "WARNING: Ignoring invalid distribution -ml5lib (c:\\programdata\\anaconda3\\lib\\site-packages)\n",
      "WARNING: Ignoring invalid distribution - (c:\\programdata\\anaconda3\\lib\\site-packages)\n"
     ]
    },
    {
     "name": "stdout",
     "output_type": "stream",
     "text": [
      "\n",
      "Requirement already satisfied: python-dateutil>=2.7 in c:\\programdata\\anaconda3\\lib\\site-packages (from matplotlib) (2.8.2)\n",
      "Requirement already satisfied: cycler>=0.10 in c:\\programdata\\anaconda3\\lib\\site-packages (from matplotlib) (0.10.0)\n",
      "Requirement already satisfied: kiwisolver>=1.0.1 in c:\\programdata\\anaconda3\\lib\\site-packages (from matplotlib) (1.3.1)\n",
      "Requirement already satisfied: six in c:\\programdata\\anaconda3\\lib\\site-packages (from cycler>=0.10->matplotlib) (1.16.0)\n"
     ]
    }
   ],
   "source": [
    "pip install matplotlib"
   ]
  },
  {
   "cell_type": "code",
   "execution_count": 19,
   "metadata": {},
   "outputs": [],
   "source": [
    "from tensorflow.keras.datasets import reuters\n",
    "(train_data, train_labels),(test_data, test_labels) = reuters.load_data(\n",
    "    num_words=10000)"
   ]
  },
  {
   "cell_type": "code",
   "execution_count": 20,
   "metadata": {},
   "outputs": [
    {
     "data": {
      "text/plain": [
       "2246"
      ]
     },
     "execution_count": 20,
     "metadata": {},
     "output_type": "execute_result"
    }
   ],
   "source": [
    "len(test_data)"
   ]
  },
  {
   "cell_type": "code",
   "execution_count": 21,
   "metadata": {},
   "outputs": [
    {
     "data": {
      "text/plain": [
       "[1,\n",
       " 245,\n",
       " 273,\n",
       " 207,\n",
       " 156,\n",
       " 53,\n",
       " 74,\n",
       " 160,\n",
       " 26,\n",
       " 14,\n",
       " 46,\n",
       " 296,\n",
       " 26,\n",
       " 39,\n",
       " 74,\n",
       " 2979,\n",
       " 3554,\n",
       " 14,\n",
       " 46,\n",
       " 4689,\n",
       " 4329,\n",
       " 86,\n",
       " 61,\n",
       " 3499,\n",
       " 4795,\n",
       " 14,\n",
       " 61,\n",
       " 451,\n",
       " 4329,\n",
       " 17,\n",
       " 12]"
      ]
     },
     "execution_count": 21,
     "metadata": {},
     "output_type": "execute_result"
    }
   ],
   "source": [
    "train_data[10]"
   ]
  },
  {
   "cell_type": "markdown",
   "metadata": {},
   "source": [
    "**Decoding newswires back to text**"
   ]
  },
  {
   "cell_type": "code",
   "execution_count": 22,
   "metadata": {},
   "outputs": [],
   "source": [
    "word_index = reuters.get_word_index()\n",
    "reverse_word_index = dict([(value, key) for (key, value) in word_index.items()])\n",
    "decoded_newswire = \" \".join([reverse_word_index.get(i - 3, \"?\") for i in\n",
    "    train_data[0]])"
   ]
  },
  {
   "cell_type": "code",
   "execution_count": 23,
   "metadata": {},
   "outputs": [
    {
     "data": {
      "text/plain": [
       "'? ? ? said as a result of its december acquisition of space co it expects earnings per share in 1987 of 1 15 to 1 30 dlrs per share up from 70 cts in 1986 the company said pretax net should rise to nine to 10 mln dlrs from six mln dlrs in 1986 and rental operation revenues to 19 to 22 mln dlrs from 12 5 mln dlrs it said cash flow per share this year should be 2 50 to three dlrs reuter 3'"
      ]
     },
     "execution_count": 23,
     "metadata": {},
     "output_type": "execute_result"
    }
   ],
   "source": [
    "decoded_newswire"
   ]
  },
  {
   "cell_type": "code",
   "execution_count": 24,
   "metadata": {},
   "outputs": [
    {
     "data": {
      "text/plain": [
       "3"
      ]
     },
     "execution_count": 24,
     "metadata": {},
     "output_type": "execute_result"
    }
   ],
   "source": [
    "train_labels[10]"
   ]
  },
  {
   "cell_type": "markdown",
   "metadata": {},
   "source": [
    "### Preparing the data"
   ]
  },
  {
   "cell_type": "markdown",
   "metadata": {},
   "source": [
    "**Encoding the input data**"
   ]
  },
  {
   "cell_type": "code",
   "execution_count": 25,
   "metadata": {},
   "outputs": [],
   "source": [
    "def vectorize_sequences(sequences, dimension=10000):\n",
    "    results = np.zeros((len(sequences), dimension))\n",
    "    for i, sequence in enumerate(sequences):\n",
    "        results[i, sequence] = 1.\n",
    "    return results\n",
    "\n",
    "x_train = vectorize_sequences(train_data)\n",
    "x_test = vectorize_sequences(test_data)"
   ]
  },
  {
   "cell_type": "markdown",
   "metadata": {},
   "source": [
    "**Encoding the labels**"
   ]
  },
  {
   "cell_type": "code",
   "execution_count": 26,
   "metadata": {},
   "outputs": [],
   "source": [
    "def to_one_hot(labels, dimension=46):\n",
    "    results = np.zeros((len(labels), dimension))\n",
    "    for i, label in enumerate(labels):\n",
    "        results[i, label] = 1.\n",
    "    return results\n",
    "y_train = to_one_hot(train_labels)\n",
    "y_test = to_one_hot(test_labels)"
   ]
  },
  {
   "cell_type": "markdown",
   "metadata": {},
   "source": [
    "### Building your model"
   ]
  },
  {
   "cell_type": "markdown",
   "metadata": {},
   "source": [
    "**Model definition**"
   ]
  },
  {
   "cell_type": "code",
   "execution_count": 27,
   "metadata": {},
   "outputs": [],
   "source": [
    "model = keras.Sequential([\n",
    "    layers.Dense(64, activation=\"relu\"),\n",
    "    layers.Dense(64, activation=\"relu\"),\n",
    "    layers.Dense(46, activation=\"softmax\")\n",
    "])"
   ]
  },
  {
   "cell_type": "markdown",
   "metadata": {},
   "source": [
    "**Compiling the model**"
   ]
  },
  {
   "cell_type": "code",
   "execution_count": 28,
   "metadata": {},
   "outputs": [],
   "source": [
    "model.compile(optimizer=\"rmsprop\",\n",
    "              loss=\"categorical_crossentropy\",\n",
    "              metrics=[\"accuracy\"])"
   ]
  },
  {
   "cell_type": "code",
   "execution_count": 29,
   "metadata": {},
   "outputs": [
    {
     "data": {
      "text/plain": [
       "array([0., 0., 0., 1., 0., 0., 0., 0., 0., 0., 0., 0., 0., 0., 0., 0., 0.,\n",
       "       0., 0., 0., 0., 0., 0., 0., 0., 0., 0., 0., 0., 0., 0., 0., 0., 0.,\n",
       "       0., 0., 0., 0., 0., 0., 0., 0., 0., 0., 0., 0.])"
      ]
     },
     "execution_count": 29,
     "metadata": {},
     "output_type": "execute_result"
    }
   ],
   "source": [
    "y_train[0]"
   ]
  },
  {
   "cell_type": "code",
   "execution_count": 30,
   "metadata": {},
   "outputs": [
    {
     "data": {
      "text/plain": [
       "array([0., 0., 0., 1., 0., 0., 0., 0., 0., 0., 0., 0., 0., 0., 0., 0., 0.,\n",
       "       0., 0., 0., 0., 0., 0., 0., 0., 0., 0., 0., 0., 0., 0., 0., 0., 0.,\n",
       "       0., 0., 0., 0., 0., 0., 0., 0., 0., 0., 0., 0.], dtype=float32)"
      ]
     },
     "execution_count": 30,
     "metadata": {},
     "output_type": "execute_result"
    }
   ],
   "source": [
    "from tensorflow.keras.utils import to_categorical\n",
    "y_train = to_categorical(train_labels)\n",
    "y_test = to_categorical(test_labels)\n",
    "\n",
    "y_train[0]"
   ]
  },
  {
   "cell_type": "markdown",
   "metadata": {},
   "source": [
    "### Validating your approach"
   ]
  },
  {
   "cell_type": "markdown",
   "metadata": {},
   "source": [
    "**Setting aside a validation set**"
   ]
  },
  {
   "cell_type": "code",
   "execution_count": 31,
   "metadata": {},
   "outputs": [],
   "source": [
    "x_val = x_train[:1000]\n",
    "partial_x_train = x_train[1000:]\n",
    "y_val = y_train[:1000]\n",
    "partial_y_train = y_train[1000:]"
   ]
  },
  {
   "cell_type": "markdown",
   "metadata": {},
   "source": [
    "**Training the model**"
   ]
  },
  {
   "cell_type": "code",
   "execution_count": 32,
   "metadata": {},
   "outputs": [
    {
     "name": "stdout",
     "output_type": "stream",
     "text": [
      "Epoch 1/20\n",
      "16/16 [==============================] - 3s 99ms/step - loss: 2.6948 - accuracy: 0.4722 - val_loss: 1.8473 - val_accuracy: 0.6070\n",
      "Epoch 2/20\n",
      "16/16 [==============================] - 1s 41ms/step - loss: 1.5642 - accuracy: 0.6690 - val_loss: 1.4096 - val_accuracy: 0.6890\n",
      "Epoch 3/20\n",
      "16/16 [==============================] - 1s 55ms/step - loss: 1.1994 - accuracy: 0.7422 - val_loss: 1.2181 - val_accuracy: 0.7300\n",
      "Epoch 4/20\n",
      "16/16 [==============================] - 1s 38ms/step - loss: 0.9783 - accuracy: 0.7897 - val_loss: 1.1194 - val_accuracy: 0.7550\n",
      "Epoch 5/20\n",
      "16/16 [==============================] - 1s 37ms/step - loss: 0.8065 - accuracy: 0.8252 - val_loss: 1.0482 - val_accuracy: 0.7790\n",
      "Epoch 6/20\n",
      "16/16 [==============================] - 1s 32ms/step - loss: 0.6694 - accuracy: 0.8578 - val_loss: 0.9612 - val_accuracy: 0.8030\n",
      "Epoch 7/20\n",
      "16/16 [==============================] - 1s 52ms/step - loss: 0.5528 - accuracy: 0.8872 - val_loss: 0.9320 - val_accuracy: 0.8040\n",
      "Epoch 8/20\n",
      "16/16 [==============================] - 1s 32ms/step - loss: 0.4563 - accuracy: 0.9064 - val_loss: 0.9527 - val_accuracy: 0.7920\n",
      "Epoch 9/20\n",
      "16/16 [==============================] - 1s 33ms/step - loss: 0.3875 - accuracy: 0.9191 - val_loss: 0.9432 - val_accuracy: 0.8080\n",
      "Epoch 10/20\n",
      "16/16 [==============================] - 1s 33ms/step - loss: 0.3276 - accuracy: 0.9297 - val_loss: 0.8925 - val_accuracy: 0.8150\n",
      "Epoch 11/20\n",
      "16/16 [==============================] - 1s 50ms/step - loss: 0.2843 - accuracy: 0.9372 - val_loss: 0.9162 - val_accuracy: 0.8150\n",
      "Epoch 12/20\n",
      "16/16 [==============================] - 1s 44ms/step - loss: 0.2493 - accuracy: 0.9422 - val_loss: 0.9239 - val_accuracy: 0.7980\n",
      "Epoch 13/20\n",
      "16/16 [==============================] - 1s 37ms/step - loss: 0.2209 - accuracy: 0.9496 - val_loss: 0.9100 - val_accuracy: 0.8260\n",
      "Epoch 14/20\n",
      "16/16 [==============================] - 1s 34ms/step - loss: 0.1957 - accuracy: 0.9499 - val_loss: 0.9156 - val_accuracy: 0.8260\n",
      "Epoch 15/20\n",
      "16/16 [==============================] - 1s 55ms/step - loss: 0.1820 - accuracy: 0.9521 - val_loss: 0.9303 - val_accuracy: 0.8220\n",
      "Epoch 16/20\n",
      "16/16 [==============================] - 1s 37ms/step - loss: 0.1648 - accuracy: 0.9544 - val_loss: 0.9593 - val_accuracy: 0.8020\n",
      "Epoch 17/20\n",
      "16/16 [==============================] - 1s 36ms/step - loss: 0.1608 - accuracy: 0.9535 - val_loss: 0.9634 - val_accuracy: 0.8170\n",
      "Epoch 18/20\n",
      "16/16 [==============================] - 1s 34ms/step - loss: 0.1459 - accuracy: 0.9572 - val_loss: 0.9744 - val_accuracy: 0.8230\n",
      "Epoch 19/20\n",
      "16/16 [==============================] - 1s 48ms/step - loss: 0.1390 - accuracy: 0.9570 - val_loss: 1.0353 - val_accuracy: 0.7930\n",
      "Epoch 20/20\n",
      "16/16 [==============================] - 1s 31ms/step - loss: 0.1302 - accuracy: 0.9590 - val_loss: 0.9826 - val_accuracy: 0.8090\n"
     ]
    }
   ],
   "source": [
    "history = model.fit(partial_x_train,\n",
    "                    partial_y_train,\n",
    "                    epochs=20,\n",
    "                    batch_size=512,\n",
    "                    validation_data=(x_val, y_val))"
   ]
  },
  {
   "cell_type": "markdown",
   "metadata": {},
   "source": [
    "**Plotting the training and validation loss**"
   ]
  },
  {
   "cell_type": "code",
   "execution_count": 33,
   "metadata": {},
   "outputs": [
    {
     "data": {
      "image/png": "[encoded data removed]",
      "text/plain": [
       "<Figure size 432x288 with 1 Axes>"
      ]
     },
     "metadata": {
      "needs_background": "light"
     },
     "output_type": "display_data"
    }
   ],
   "source": [
    "loss = history.history[\"loss\"]\n",
    "val_loss = history.history[\"val_loss\"]\n",
    "epochs = range(1, len(loss) + 1)\n",
    "plt.plot(epochs, loss, \"bo\", label=\"Training loss\")\n",
    "plt.plot(epochs, val_loss, \"b\", label=\"Validation loss\")\n",
    "plt.title(\"Training and validation loss\")\n",
    "plt.xlabel(\"Epochs\")\n",
    "plt.ylabel(\"Loss\")\n",
    "plt.legend()\n",
    "plt.show()"
   ]
  },
  {
   "cell_type": "code",
   "execution_count": 34,
   "metadata": {},
   "outputs": [
    {
     "name": "stdout",
     "output_type": "stream",
     "text": [
      "250/250 [==============================] - 1s 3ms/step - loss: 0.1068 - accuracy: 0.9667\n"
     ]
    }
   ],
   "source": [
    "results = model.evaluate(partial_x_train,partial_y_train)"
   ]
  },
  {
   "cell_type": "markdown",
   "metadata": {},
   "source": [
    "**Plotting the training and validation accuracy**"
   ]
  },
  {
   "cell_type": "code",
   "execution_count": 35,
   "metadata": {},
   "outputs": [
    {
     "data": {
      "image/png": "[encoded data removed]",
      "text/plain": [
       "<Figure size 432x288 with 1 Axes>"
      ]
     },
     "metadata": {
      "needs_background": "light"
     },
     "output_type": "display_data"
    }
   ],
   "source": [
    "plt.clf()\n",
    "acc = history.history[\"accuracy\"]\n",
    "val_acc = history.history[\"val_accuracy\"]\n",
    "plt.plot(epochs, acc, \"bo\", label=\"Training accuracy\")\n",
    "plt.plot(epochs, val_acc, \"b\", label=\"Validation accuracy\")\n",
    "plt.title(\"Training and validation accuracy\")\n",
    "plt.xlabel(\"Epochs\")\n",
    "plt.ylabel(\"Accuracy\")\n",
    "plt.legend()\n",
    "plt.show()"
   ]
  },
  {
   "cell_type": "markdown",
   "metadata": {},
   "source": [
    "### A different way to handle the labels and the loss"
   ]
  },
  {
   "cell_type": "code",
   "execution_count": 36,
   "metadata": {},
   "outputs": [],
   "source": [
    "y_train = np.array(train_labels)\n",
    "y_test = np.array(test_labels)"
   ]
  },
  {
   "cell_type": "code",
   "execution_count": 37,
   "metadata": {},
   "outputs": [],
   "source": [
    "model.compile(optimizer=\"rmsprop\",\n",
    "              loss=\"sparse_categorical_crossentropy\",\n",
    "              metrics=[\"accuracy\"])"
   ]
  },
  {
   "cell_type": "code",
   "execution_count": null,
   "metadata": {},
   "outputs": [],
   "source": [
    "# from tensorflow.keras.datasets import imdb\n",
    "# (train_data, train_labels), _ = imdb.load_data(num_words=10000)\n",
    "\n",
    "# train_data = vectorize_sequences(train_data)"
   ]
  },
  {
   "cell_type": "markdown",
   "metadata": {},
   "source": [
    "Add regularizers to the model"
   ]
  },
  {
   "cell_type": "code",
   "execution_count": 38,
   "metadata": {},
   "outputs": [
    {
     "name": "stdout",
     "output_type": "stream",
     "text": [
      "Epoch 1/20\n",
      "16/16 [==============================] - 1s 50ms/step - loss: 3.1581 - accuracy: 0.4463 - val_loss: 2.2624 - val_accuracy: 0.5890\n",
      "Epoch 2/20\n",
      "16/16 [==============================] - 1s 36ms/step - loss: 1.9404 - accuracy: 0.6610 - val_loss: 1.7390 - val_accuracy: 0.6610\n",
      "Epoch 3/20\n",
      "16/16 [==============================] - 1s 35ms/step - loss: 1.5661 - accuracy: 0.7136 - val_loss: 1.5266 - val_accuracy: 0.7120\n",
      "Epoch 4/20\n",
      "16/16 [==============================] - 1s 36ms/step - loss: 1.3602 - accuracy: 0.7593 - val_loss: 1.4194 - val_accuracy: 0.7370\n",
      "Epoch 5/20\n",
      "16/16 [==============================] - 1s 34ms/step - loss: 1.2112 - accuracy: 0.7949 - val_loss: 1.3493 - val_accuracy: 0.7500\n",
      "Epoch 6/20\n",
      "16/16 [==============================] - 1s 35ms/step - loss: 1.1024 - accuracy: 0.8187 - val_loss: 1.2942 - val_accuracy: 0.7690\n",
      "Epoch 7/20\n",
      "16/16 [==============================] - 1s 33ms/step - loss: 1.0148 - accuracy: 0.8390 - val_loss: 1.2515 - val_accuracy: 0.7770\n",
      "Epoch 8/20\n",
      "16/16 [==============================] - 1s 37ms/step - loss: 0.9457 - accuracy: 0.8550 - val_loss: 1.2352 - val_accuracy: 0.7970\n",
      "Epoch 9/20\n",
      "16/16 [==============================] - 1s 32ms/step - loss: 0.8888 - accuracy: 0.8702 - val_loss: 1.2061 - val_accuracy: 0.8000\n",
      "Epoch 10/20\n",
      "16/16 [==============================] - 1s 37ms/step - loss: 0.8407 - accuracy: 0.8847 - val_loss: 1.2117 - val_accuracy: 0.7960\n",
      "Epoch 11/20\n",
      "16/16 [==============================] - 1s 34ms/step - loss: 0.8047 - accuracy: 0.8970 - val_loss: 1.1817 - val_accuracy: 0.8090\n",
      "Epoch 12/20\n",
      "16/16 [==============================] - 1s 32ms/step - loss: 0.7670 - accuracy: 0.9073 - val_loss: 1.2002 - val_accuracy: 0.8050\n",
      "Epoch 13/20\n",
      "16/16 [==============================] - 1s 34ms/step - loss: 0.7389 - accuracy: 0.9138 - val_loss: 1.2053 - val_accuracy: 0.8000\n",
      "Epoch 14/20\n",
      "16/16 [==============================] - 1s 34ms/step - loss: 0.7213 - accuracy: 0.9159 - val_loss: 1.1784 - val_accuracy: 0.8080\n",
      "Epoch 15/20\n",
      "16/16 [==============================] - 1s 36ms/step - loss: 0.6931 - accuracy: 0.9233 - val_loss: 1.3061 - val_accuracy: 0.7710\n",
      "Epoch 16/20\n",
      "16/16 [==============================] - 0s 32ms/step - loss: 0.6766 - accuracy: 0.9271 - val_loss: 1.1834 - val_accuracy: 0.8090\n",
      "Epoch 17/20\n",
      "16/16 [==============================] - 1s 32ms/step - loss: 0.6609 - accuracy: 0.9307 - val_loss: 1.1994 - val_accuracy: 0.8040\n",
      "Epoch 18/20\n",
      "16/16 [==============================] - 1s 32ms/step - loss: 0.6479 - accuracy: 0.9320 - val_loss: 1.1985 - val_accuracy: 0.8080\n",
      "Epoch 19/20\n",
      "16/16 [==============================] - 1s 32ms/step - loss: 0.6378 - accuracy: 0.9377 - val_loss: 1.2058 - val_accuracy: 0.7980\n",
      "Epoch 20/20\n",
      "16/16 [==============================] - 1s 33ms/step - loss: 0.6181 - accuracy: 0.9381 - val_loss: 1.1693 - val_accuracy: 0.8110\n"
     ]
    }
   ],
   "source": [
    "from tensorflow.keras import regularizers\n",
    "\n",
    "model = keras.Sequential([\n",
    "  layers.Dense(64, kernel_regularizer=regularizers.l2(0.002), activation=\"relu\"),\n",
    "  layers.Dense(64, kernel_regularizer=regularizers.l2(0.002), activation=\"relu\"),\n",
    "  layers.Dense(46, activation=\"softmax\")\n",
    "])\n",
    "model.compile(optimizer=\"rmsprop\",\n",
    "              loss=\"categorical_crossentropy\",\n",
    "              metrics=[\"accuracy\"])\n",
    "history = model.fit(partial_x_train,\n",
    "                    partial_y_train,\n",
    "                    epochs=20,\n",
    "                    batch_size=512,\n",
    "                    validation_data=(x_val, y_val))"
   ]
  },
  {
   "cell_type": "code",
   "execution_count": 39,
   "metadata": {},
   "outputs": [
    {
     "data": {
      "image/png": "[encoded data removed]",
      "text/plain": [
       "<Figure size 432x288 with 1 Axes>"
      ]
     },
     "metadata": {
      "needs_background": "light"
     },
     "output_type": "display_data"
    }
   ],
   "source": [
    "loss = history.history[\"loss\"]\n",
    "val_loss = history.history[\"val_loss\"]\n",
    "epochs = range(1, len(loss) + 1)\n",
    "plt.plot(epochs, loss, \"bo\", label=\"Training loss\")\n",
    "plt.plot(epochs, val_loss, \"b\", label=\"Validation loss\")\n",
    "plt.title(\"Training and validation loss\")\n",
    "plt.xlabel(\"Epochs\")\n",
    "plt.ylabel(\"Loss\")\n",
    "plt.legend()\n",
    "plt.show()"
   ]
  },
  {
   "cell_type": "code",
   "execution_count": 40,
   "metadata": {},
   "outputs": [
    {
     "name": "stdout",
     "output_type": "stream",
     "text": [
      "250/250 [==============================] - 1s 3ms/step - loss: 0.5838 - accuracy: 0.9514\n"
     ]
    }
   ],
   "source": [
    "results = model.evaluate(partial_x_train,partial_y_train)"
   ]
  },
  {
   "cell_type": "code",
   "execution_count": 41,
   "metadata": {},
   "outputs": [
    {
     "name": "stdout",
     "output_type": "stream",
     "text": [
      "Epoch 1/10\n",
      "16/16 [==============================] - 2s 58ms/step - loss: 3.0704 - accuracy: 0.5277 - val_loss: 2.1581 - val_accuracy: 0.6530\n",
      "Epoch 2/10\n",
      "16/16 [==============================] - 1s 46ms/step - loss: 1.8845 - accuracy: 0.7095 - val_loss: 1.7935 - val_accuracy: 0.7240\n",
      "Epoch 3/10\n",
      "16/16 [==============================] - 1s 53ms/step - loss: 1.5377 - accuracy: 0.7746 - val_loss: 1.5871 - val_accuracy: 0.7420\n",
      "Epoch 4/10\n",
      "16/16 [==============================] - 1s 54ms/step - loss: 1.3171 - accuracy: 0.8106 - val_loss: 1.4443 - val_accuracy: 0.7910\n",
      "Epoch 5/10\n",
      "16/16 [==============================] - 1s 53ms/step - loss: 1.1540 - accuracy: 0.8418 - val_loss: 1.3955 - val_accuracy: 0.7940\n",
      "Epoch 6/10\n",
      "16/16 [==============================] - 1s 53ms/step - loss: 1.0416 - accuracy: 0.8646 - val_loss: 1.3238 - val_accuracy: 0.8000\n",
      "Epoch 7/10\n",
      "16/16 [==============================] - 1s 53ms/step - loss: 0.9703 - accuracy: 0.8789 - val_loss: 1.3001 - val_accuracy: 0.8160\n",
      "Epoch 8/10\n",
      "16/16 [==============================] - 1s 47ms/step - loss: 0.8931 - accuracy: 0.8969 - val_loss: 1.2847 - val_accuracy: 0.8060\n",
      "Epoch 9/10\n",
      "16/16 [==============================] - 1s 52ms/step - loss: 0.8508 - accuracy: 0.9035 - val_loss: 1.2620 - val_accuracy: 0.8170\n",
      "Epoch 10/10\n",
      "16/16 [==============================] - 1s 51ms/step - loss: 0.7981 - accuracy: 0.9187 - val_loss: 1.3645 - val_accuracy: 0.7750\n"
     ]
    },
    {
     "data": {
      "image/png": "[encoded data removed]",
      "text/plain": [
       "<Figure size 432x288 with 1 Axes>"
      ]
     },
     "metadata": {
      "needs_background": "light"
     },
     "output_type": "display_data"
    }
   ],
   "source": [
    "from tensorflow.keras import regularizers\n",
    "\n",
    "model = keras.Sequential([\n",
    "  layers.Dense(128, kernel_regularizer=regularizers.l2(0.002), activation=\"relu\"),\n",
    "  layers.Dense(128, kernel_regularizer=regularizers.l2(0.002), activation=\"relu\"),\n",
    "  layers.Dense(46, activation=\"softmax\")\n",
    "])\n",
    "model.compile(optimizer=\"rmsprop\",\n",
    "              loss=\"categorical_crossentropy\",\n",
    "              metrics=[\"accuracy\"])\n",
    "history = model.fit(partial_x_train,\n",
    "                    partial_y_train,\n",
    "                    epochs=10,\n",
    "                    batch_size=512,\n",
    "                    validation_data=(x_val, y_val))\n",
    "\n",
    "loss = history.history[\"loss\"]\n",
    "val_loss = history.history[\"val_loss\"]\n",
    "epochs = range(1, len(loss) + 1)\n",
    "plt.plot(epochs, loss, \"bo\", label=\"Training loss\")\n",
    "plt.plot(epochs, val_loss, \"b\", label=\"Validation loss\")\n",
    "plt.title(\"Training and validation loss\")\n",
    "plt.xlabel(\"Epochs\")\n",
    "plt.ylabel(\"Loss\")\n",
    "plt.legend()\n",
    "plt.show()"
   ]
  },
  {
   "cell_type": "code",
   "execution_count": 55,
   "metadata": {},
   "outputs": [
    {
     "name": "stdout",
     "output_type": "stream",
     "text": [
      "250/250 [==============================] - 3s 10ms/step - loss: 0.7566 - accuracy: 0.9260\n"
     ]
    }
   ],
   "source": [
    "results = model.evaluate(partial_x_train,partial_y_train)"
   ]
  },
  {
   "cell_type": "markdown",
   "metadata": {},
   "source": [
    "Add Dropout"
   ]
  },
  {
   "cell_type": "code",
   "execution_count": 42,
   "metadata": {},
   "outputs": [
    {
     "name": "stdout",
     "output_type": "stream",
     "text": [
      "Epoch 1/25\n",
      "16/16 [==============================] - 2s 91ms/step - loss: 2.7342 - accuracy: 0.4035 - val_loss: 1.7308 - val_accuracy: 0.6110\n",
      "Epoch 2/25\n",
      "16/16 [==============================] - 1s 46ms/step - loss: 1.7032 - accuracy: 0.6030 - val_loss: 1.3721 - val_accuracy: 0.6840\n",
      "Epoch 3/25\n",
      "16/16 [==============================] - 1s 67ms/step - loss: 1.4124 - accuracy: 0.6729 - val_loss: 1.2385 - val_accuracy: 0.7150\n",
      "Epoch 4/25\n",
      "16/16 [==============================] - 1s 52ms/step - loss: 1.2456 - accuracy: 0.7095 - val_loss: 1.1469 - val_accuracy: 0.7400\n",
      "Epoch 5/25\n",
      "16/16 [==============================] - 1s 58ms/step - loss: 1.1046 - accuracy: 0.7394 - val_loss: 1.0629 - val_accuracy: 0.7720\n",
      "Epoch 6/25\n",
      "16/16 [==============================] - 1s 49ms/step - loss: 0.9979 - accuracy: 0.7681 - val_loss: 1.0121 - val_accuracy: 0.7790\n",
      "Epoch 7/25\n",
      "16/16 [==============================] - 1s 50ms/step - loss: 0.9192 - accuracy: 0.7839 - val_loss: 0.9718 - val_accuracy: 0.7940\n",
      "Epoch 8/25\n",
      "16/16 [==============================] - 1s 53ms/step - loss: 0.8170 - accuracy: 0.8066 - val_loss: 0.9597 - val_accuracy: 0.7880\n",
      "Epoch 9/25\n",
      "16/16 [==============================] - 1s 51ms/step - loss: 0.7542 - accuracy: 0.8224 - val_loss: 0.9226 - val_accuracy: 0.8070\n",
      "Epoch 10/25\n",
      "16/16 [==============================] - 1s 56ms/step - loss: 0.6874 - accuracy: 0.8355 - val_loss: 0.9092 - val_accuracy: 0.8110\n",
      "Epoch 11/25\n",
      "16/16 [==============================] - 1s 49ms/step - loss: 0.6363 - accuracy: 0.8430 - val_loss: 0.9044 - val_accuracy: 0.8160\n",
      "Epoch 12/25\n",
      "16/16 [==============================] - 1s 47ms/step - loss: 0.5910 - accuracy: 0.8529 - val_loss: 0.8965 - val_accuracy: 0.8220\n",
      "Epoch 13/25\n",
      "16/16 [==============================] - 1s 51ms/step - loss: 0.5436 - accuracy: 0.8628 - val_loss: 0.8904 - val_accuracy: 0.8270\n",
      "Epoch 14/25\n",
      "16/16 [==============================] - 1s 50ms/step - loss: 0.5066 - accuracy: 0.8776 - val_loss: 0.8865 - val_accuracy: 0.8270\n",
      "Epoch 15/25\n",
      "16/16 [==============================] - 1s 50ms/step - loss: 0.4642 - accuracy: 0.8839 - val_loss: 0.9041 - val_accuracy: 0.8190\n",
      "Epoch 16/25\n",
      "16/16 [==============================] - 1s 50ms/step - loss: 0.4397 - accuracy: 0.8943 - val_loss: 0.8957 - val_accuracy: 0.8240\n",
      "Epoch 17/25\n",
      "16/16 [==============================] - 1s 50ms/step - loss: 0.4118 - accuracy: 0.8940 - val_loss: 0.9158 - val_accuracy: 0.8270\n",
      "Epoch 18/25\n",
      "16/16 [==============================] - 1s 50ms/step - loss: 0.3908 - accuracy: 0.9033 - val_loss: 0.9097 - val_accuracy: 0.8260\n",
      "Epoch 19/25\n",
      "16/16 [==============================] - 1s 50ms/step - loss: 0.3639 - accuracy: 0.9068 - val_loss: 0.9217 - val_accuracy: 0.8260\n",
      "Epoch 20/25\n",
      "16/16 [==============================] - 1s 49ms/step - loss: 0.3463 - accuracy: 0.9109 - val_loss: 0.9465 - val_accuracy: 0.8150\n",
      "Epoch 21/25\n",
      "16/16 [==============================] - 1s 50ms/step - loss: 0.3281 - accuracy: 0.9187 - val_loss: 0.9511 - val_accuracy: 0.8240\n",
      "Epoch 22/25\n",
      "16/16 [==============================] - 1s 46ms/step - loss: 0.3194 - accuracy: 0.9164 - val_loss: 0.9280 - val_accuracy: 0.8280\n",
      "Epoch 23/25\n",
      "16/16 [==============================] - 1s 48ms/step - loss: 0.2887 - accuracy: 0.9265 - val_loss: 0.9666 - val_accuracy: 0.8300\n",
      "Epoch 24/25\n",
      "16/16 [==============================] - 1s 53ms/step - loss: 0.2807 - accuracy: 0.9273 - val_loss: 0.9504 - val_accuracy: 0.8240\n",
      "Epoch 25/25\n",
      "16/16 [==============================] - 1s 48ms/step - loss: 0.2737 - accuracy: 0.9305 - val_loss: 0.9643 - val_accuracy: 0.8320\n"
     ]
    },
    {
     "data": {
      "image/png": "[encoded data removed]",
      "text/plain": [
       "<Figure size 432x288 with 1 Axes>"
      ]
     },
     "metadata": {
      "needs_background": "light"
     },
     "output_type": "display_data"
    }
   ],
   "source": [
    "model = keras.Sequential([\n",
    "  layers.Dense(128 , activation=\"relu\"),\n",
    "  layers.Dropout(0.5),\n",
    "  layers.Dense(128, activation=\"relu\"),\n",
    "  layers.Dropout(0.5),\n",
    "  layers.Dense(46, activation=\"softmax\")\n",
    "])\n",
    "model.compile(optimizer=\"rmsprop\",\n",
    "              loss=\"categorical_crossentropy\",\n",
    "              metrics=[\"accuracy\"])\n",
    "history = model.fit(partial_x_train,\n",
    "                    partial_y_train,\n",
    "                    epochs=25,\n",
    "                    batch_size=512,\n",
    "                    validation_data=(x_val, y_val))\n",
    "\n",
    "loss = history.history[\"loss\"]\n",
    "val_loss = history.history[\"val_loss\"]\n",
    "epochs = range(1, len(loss) + 1)\n",
    "plt.plot(epochs, loss, \"bo\", label=\"Training loss\")\n",
    "plt.plot(epochs, val_loss, \"b\", label=\"Validation loss\")\n",
    "plt.title(\"Training and validation loss\")\n",
    "plt.xlabel(\"Epochs\")\n",
    "plt.ylabel(\"Loss\")\n",
    "plt.legend()\n",
    "plt.show()"
   ]
  },
  {
   "cell_type": "code",
   "execution_count": 43,
   "metadata": {},
   "outputs": [
    {
     "name": "stdout",
     "output_type": "stream",
     "text": [
      "250/250 [==============================] - 1s 3ms/step - loss: 0.1180 - accuracy: 0.9634\n"
     ]
    }
   ],
   "source": [
    "results = model.evaluate(partial_x_train,partial_y_train)"
   ]
  },
  {
   "cell_type": "code",
   "execution_count": 44,
   "metadata": {},
   "outputs": [
    {
     "name": "stdout",
     "output_type": "stream",
     "text": [
      "Epoch 1/22\n",
      "16/16 [==============================] - 2s 91ms/step - loss: 2.3103 - accuracy: 0.4890 - val_loss: 1.4817 - val_accuracy: 0.6540\n",
      "Epoch 2/22\n",
      "16/16 [==============================] - 1s 72ms/step - loss: 1.4402 - accuracy: 0.6680 - val_loss: 1.2339 - val_accuracy: 0.7130\n",
      "Epoch 3/22\n",
      "16/16 [==============================] - 1s 78ms/step - loss: 1.1678 - accuracy: 0.7316 - val_loss: 1.0838 - val_accuracy: 0.7510\n",
      "Epoch 4/22\n",
      "16/16 [==============================] - 1s 81ms/step - loss: 0.9931 - accuracy: 0.7712 - val_loss: 1.0056 - val_accuracy: 0.7830\n",
      "Epoch 5/22\n",
      "16/16 [==============================] - 1s 81ms/step - loss: 0.8446 - accuracy: 0.8033 - val_loss: 0.9438 - val_accuracy: 0.8020\n",
      "Epoch 6/22\n",
      "16/16 [==============================] - 1s 86ms/step - loss: 0.7206 - accuracy: 0.8297 - val_loss: 0.9031 - val_accuracy: 0.8120\n",
      "Epoch 7/22\n",
      "16/16 [==============================] - 2s 101ms/step - loss: 0.6235 - accuracy: 0.8503 - val_loss: 0.8900 - val_accuracy: 0.8140\n",
      "Epoch 8/22\n",
      "16/16 [==============================] - 1s 85ms/step - loss: 0.5396 - accuracy: 0.8735 - val_loss: 0.9010 - val_accuracy: 0.8080\n",
      "Epoch 9/22\n",
      "16/16 [==============================] - 1s 85ms/step - loss: 0.4762 - accuracy: 0.8864 - val_loss: 0.8906 - val_accuracy: 0.8160\n",
      "Epoch 10/22\n",
      "16/16 [==============================] - 1s 81ms/step - loss: 0.4119 - accuracy: 0.8996 - val_loss: 0.8808 - val_accuracy: 0.8080\n",
      "Epoch 11/22\n",
      "16/16 [==============================] - 1s 84ms/step - loss: 0.3523 - accuracy: 0.9148 - val_loss: 0.8611 - val_accuracy: 0.8240\n",
      "Epoch 12/22\n",
      "16/16 [==============================] - 1s 82ms/step - loss: 0.3236 - accuracy: 0.9194 - val_loss: 0.8915 - val_accuracy: 0.8150\n",
      "Epoch 13/22\n",
      "16/16 [==============================] - 1s 81ms/step - loss: 0.2950 - accuracy: 0.9277 - val_loss: 0.8833 - val_accuracy: 0.8230\n",
      "Epoch 14/22\n",
      "16/16 [==============================] - 1s 79ms/step - loss: 0.2694 - accuracy: 0.9316 - val_loss: 0.9169 - val_accuracy: 0.8200\n",
      "Epoch 15/22\n",
      "16/16 [==============================] - 1s 77ms/step - loss: 0.2389 - accuracy: 0.9392 - val_loss: 0.9475 - val_accuracy: 0.8190\n",
      "Epoch 16/22\n",
      "16/16 [==============================] - 1s 83ms/step - loss: 0.2340 - accuracy: 0.9379 - val_loss: 0.9616 - val_accuracy: 0.8200\n",
      "Epoch 17/22\n",
      "16/16 [==============================] - 1s 76ms/step - loss: 0.2170 - accuracy: 0.9448 - val_loss: 0.9347 - val_accuracy: 0.8230\n",
      "Epoch 18/22\n",
      "16/16 [==============================] - 1s 79ms/step - loss: 0.2034 - accuracy: 0.9480 - val_loss: 0.9315 - val_accuracy: 0.8220\n",
      "Epoch 19/22\n",
      "16/16 [==============================] - 1s 78ms/step - loss: 0.1927 - accuracy: 0.9501 - val_loss: 0.9651 - val_accuracy: 0.8200\n",
      "Epoch 20/22\n",
      "16/16 [==============================] - 1s 81ms/step - loss: 0.1882 - accuracy: 0.9506 - val_loss: 0.9601 - val_accuracy: 0.8230\n",
      "Epoch 21/22\n",
      "16/16 [==============================] - 1s 87ms/step - loss: 0.1793 - accuracy: 0.9511 - val_loss: 0.9266 - val_accuracy: 0.8300\n",
      "Epoch 22/22\n",
      "16/16 [==============================] - 1s 79ms/step - loss: 0.1677 - accuracy: 0.9534 - val_loss: 0.9557 - val_accuracy: 0.8190\n"
     ]
    },
    {
     "data": {
      "image/png": "[encoded data removed]",
      "text/plain": [
       "<Figure size 432x288 with 1 Axes>"
      ]
     },
     "metadata": {
      "needs_background": "light"
     },
     "output_type": "display_data"
    }
   ],
   "source": [
    "model = keras.Sequential([\n",
    "  layers.Dense(256 , activation=\"relu\"),\n",
    "  layers.Dropout(0.5),\n",
    "  layers.Dense(256, activation=\"relu\"),\n",
    "  layers.Dropout(0.5),\n",
    "  layers.Dense(46, activation=\"softmax\")\n",
    "])\n",
    "model.compile(optimizer=\"rmsprop\",\n",
    "              loss=\"categorical_crossentropy\",\n",
    "              metrics=[\"accuracy\"])\n",
    "history = model.fit(partial_x_train,\n",
    "                    partial_y_train,\n",
    "                    epochs=22,\n",
    "                    batch_size=512,\n",
    "                    validation_data=(x_val, y_val))\n",
    "\n",
    "loss = history.history[\"loss\"]\n",
    "val_loss = history.history[\"val_loss\"]\n",
    "epochs = range(1, len(loss) + 1)\n",
    "plt.plot(epochs, loss, \"bo\", label=\"Training loss\")\n",
    "plt.plot(epochs, val_loss, \"b\", label=\"Validation loss\")\n",
    "plt.title(\"Training and validation loss\")\n",
    "plt.xlabel(\"Epochs\")\n",
    "plt.ylabel(\"Loss\")\n",
    "plt.legend()\n",
    "plt.show()"
   ]
  },
  {
   "cell_type": "code",
   "execution_count": 45,
   "metadata": {},
   "outputs": [
    {
     "name": "stdout",
     "output_type": "stream",
     "text": [
      "250/250 [==============================] - 1s 5ms/step - loss: 0.0793 - accuracy: 0.9682\n"
     ]
    }
   ],
   "source": [
    "results = model.evaluate(partial_x_train,partial_y_train)"
   ]
  },
  {
   "cell_type": "markdown",
   "metadata": {},
   "source": [
    "המודל האופטימאלי שמצאנו עם accuracy: 0.9684 "
   ]
  },
  {
   "cell_type": "markdown",
   "metadata": {},
   "source": [
    "256 perceptrones per layer,\n",
    "dropout (0.5),\n",
    "epochs=22"
   ]
  }
 ],
 "metadata": {
  "kernelspec": {
   "display_name": "Python 3 (ipykernel)",
   "language": "python",
   "name": "python3"
  },
  "language_info": {
   "codemirror_mode": {
    "name": "ipython",
    "version": 3
   },
   "file_extension": ".py",
   "mimetype": "text/x-python",
   "name": "python",
   "nbconvert_exporter": "python",
   "pygments_lexer": "ipython3",
   "version": "3.9.7"
  }
 },
 "nbformat": 4,
 "nbformat_minor": 2
}
